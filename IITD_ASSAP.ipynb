{
  "nbformat": 4,
  "nbformat_minor": 0,
  "metadata": {
    "colab": {
      "provenance": [],
      "authorship_tag": "ABX9TyORafC00n+5mbxG4LeA8j53",
      "include_colab_link": true
    },
    "kernelspec": {
      "name": "python3",
      "display_name": "Python 3"
    },
    "language_info": {
      "name": "python"
    }
  },
  "cells": [
    {
      "cell_type": "markdown",
      "metadata": {
        "id": "view-in-github",
        "colab_type": "text"
      },
      "source": [
        "<a href=\"https://colab.research.google.com/github/sandeep-naik/IITDASSAP-01/blob/master/IITD_ASSAP.ipynb\" target=\"_parent\"><img src=\"https://colab.research.google.com/assets/colab-badge.svg\" alt=\"Open In Colab\"/></a>"
      ]
    },
    {
      "cell_type": "code",
      "execution_count": 1,
      "metadata": {
        "id": "0vO7lU3HgM_p",
        "colab": {
          "base_uri": "https://localhost:8080/"
        },
        "outputId": "917241ed-4a4b-4cbe-f28b-ec1a5ce3d513"
      },
      "outputs": [
        {
          "output_type": "stream",
          "name": "stdout",
          "text": [
            "Vector : [ 6  8 -7]\n",
            "L1 norm :  21.0\n",
            "L2 Norm :  12.206555615733702\n",
            "Infinity norm :  8.0\n",
            "Inner Product :  1\n",
            "Outer Product :  [[-6  0 -6]\n",
            " [-8  0 -8]\n",
            " [ 7  0  7]]\n",
            "Frobenious norm of matrix :  590.1271049528228\n"
          ]
        }
      ],
      "source": [
        "from numpy import array\n",
        "from numpy.linalg import norm\n",
        "from numpy import inf\n",
        "import numpy as np\n",
        "arr = array([6,8,-7])\n",
        "print(\"Vector :\", arr)\n",
        "norm_l1 = norm(arr, 1)\n",
        "print(\"L1 norm : \",norm_l1)\n",
        "norm_l2 = norm(arr)\n",
        "print(\"L2 Norm : \",norm_l2)\n",
        "infinity_norm = norm(arr,inf)\n",
        "print(\"Infinity norm : \",infinity_norm)\n",
        "\n",
        "# inner  product\n",
        "vector2 = array([-1,0,-1])\n",
        "result = np.inner(arr,vector2)\n",
        "print(\"Inner Product : \",result)\n",
        "\n",
        "# outer product\n",
        "result2 = np.outer(arr,vector2)\n",
        "print(\"Outer Product : \",result2)\n",
        "\n",
        "# Frobenious norm of matrix\n",
        "# construct matrix of 100x100 and fill it with 1\n",
        "matrix1 = [[1 for i in range(100)] for j in range(100)]\n",
        "for i in range(0,100):\n",
        "    for j in range(0,100):\n",
        "        if(i == j):\n",
        "            matrix1[i][j] = i + 1\n",
        "result_fro = np.linalg.norm(matrix1,'fro')\n",
        "print(\"Frobenious norm of matrix : \",result_fro)\n",
        "np.savetxt('text.txt',matrix1,fmt='%d')"
      ]
    },
    {
      "cell_type": "markdown",
      "source": [
        "Colab notebook created for IITD ASSAP group"
      ],
      "metadata": {
        "id": "fIUuTO-tgpn6"
      }
    },
    {
      "cell_type": "code",
      "source": [],
      "metadata": {
        "id": "P3iigce5m0oP"
      },
      "execution_count": null,
      "outputs": []
    }
  ]
}